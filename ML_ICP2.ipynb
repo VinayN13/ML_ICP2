{
 "cells": [
  {
   "cell_type": "code",
   "execution_count": 2,
   "metadata": {},
   "outputs": [
    {
     "name": "stdout",
     "output_type": "stream",
     "text": [
      "* \n",
      "* * \n",
      "* * * \n",
      "* * * * \n",
      "* * * * * \n",
      "* * * * \n",
      "* * * \n",
      "* * \n",
      "* \n"
     ]
    }
   ],
   "source": [
    "\n",
    "rows = 5\n",
    "\n",
    "# Increasing part of the pattern\n",
    "for i in range(1, rows + 1):\n",
    "    for j in range(i):\n",
    "        print(\"* \", end=\"\")\n",
    "    print()\n",
    "\n",
    "# Decreasing part of the pattern\n",
    "for i in range(rows - 1, 0, -1):\n",
    "    for j in range(i):\n",
    "        print(\"* \", end=\"\")\n",
    "    print()\n",
    "\n"
   ]
  },
  {
   "cell_type": "code",
   "execution_count": 3,
   "metadata": {},
   "outputs": [
    {
     "name": "stdout",
     "output_type": "stream",
     "text": [
      "20\n",
      "40\n",
      "60\n",
      "80\n",
      "100\n"
     ]
    }
   ],
   "source": [
    "my_list = [10, 20, 30, 40, 50, 60, 70, 80, 90, 100]\n",
    "\n",
    "# Loop through the list using the index\n",
    "for i in range(len(my_list)):\n",
    "    # Check if the index is odd\n",
    "    if i % 2 != 0:\n",
    "        print(my_list[i])"
   ]
  },
  {
   "cell_type": "code",
   "execution_count": 4,
   "metadata": {},
   "outputs": [
    {
     "name": "stdout",
     "output_type": "stream",
     "text": [
      "[23, 'Python', 23.98]\n",
      "[<class 'int'>, <class 'str'>, <class 'float'>]\n"
     ]
    }
   ],
   "source": [
    "x = [23, 'Python', 23.98]\n",
    "\n",
    "# Output the original list\n",
    "print(x)\n",
    "\n",
    "# Create a new list to store the types of the elements\n",
    "types = []\n",
    "\n",
    "# Loop through each element in the original list\n",
    "for element in x:\n",
    "    # Append the type of the element to the types list\n",
    "    types.append(type(element))\n",
    "\n",
    "# Output the types list\n",
    "print(types)\n"
   ]
  },
  {
   "cell_type": "code",
   "execution_count": 5,
   "metadata": {},
   "outputs": [
    {
     "name": "stdout",
     "output_type": "stream",
     "text": [
      "Sample List: [1, 2, 3, 3, 3, 3, 4, 5]\n",
      "Unique List: [1, 2, 3, 4, 5]\n"
     ]
    }
   ],
   "source": [
    "def get_unique_elements(input_list):\n",
    "  \n",
    "  # Using set to remove duplicates and convert back to list\n",
    "  return list(set(input_list))\n",
    "\n",
    "# Sample list\n",
    "sample_list = [1, 2, 3, 3, 3, 3, 4, 5]\n",
    "\n",
    "# Get the unique elements\n",
    "unique_list = get_unique_elements(sample_list)\n",
    "\n",
    "# Print the unique list\n",
    "print('Sample List:', sample_list)\n",
    "print('Unique List:',unique_list)\n"
   ]
  },
  {
   "cell_type": "code",
   "execution_count": 6,
   "metadata": {},
   "outputs": [
    {
     "name": "stdout",
     "output_type": "stream",
     "text": [
      "No. of Upper-case characters: 3\n",
      "No. of Lower-case Characters: 12\n"
     ]
    }
   ],
   "source": [
    "def count_upper_lower(s):\n",
    "    # Initialize counters for upper-case and lower-case characters\n",
    "    upper_case_count = 0\n",
    "    lower_case_count = 0\n",
    "    \n",
    "    # Loop through each character in the string\n",
    "    for char in s:\n",
    "        # Check if the character is upper-case\n",
    "        if char.isupper():\n",
    "            upper_case_count += 1\n",
    "        # Check if the character is lower-case\n",
    "        elif char.islower():\n",
    "            lower_case_count += 1\n",
    "    \n",
    "    # Return the counts\n",
    "    return upper_case_count, lower_case_count\n",
    "\n",
    "# Input string\n",
    "input_string = 'The quick Brow Fox'\n",
    "\n",
    "# Get the counts of upper-case and lower-case characters\n",
    "upper_count, lower_count = count_upper_lower(input_string)\n",
    "\n",
    "# Output the results\n",
    "print(\"No. of Upper-case characters:\", upper_count)\n",
    "print(\"No. of Lower-case Characters:\", lower_count)\n",
    "\n"
   ]
  }
 ],
 "metadata": {
  "kernelspec": {
   "display_name": "Python 3 (ipykernel)",
   "language": "python",
   "name": "python3"
  },
  "language_info": {
   "codemirror_mode": {
    "name": "ipython",
    "version": 3
   },
   "file_extension": ".py",
   "mimetype": "text/x-python",
   "name": "python",
   "nbconvert_exporter": "python",
   "pygments_lexer": "ipython3",
   "version": "3.11.5"
  }
 },
 "nbformat": 4,
 "nbformat_minor": 2
}
